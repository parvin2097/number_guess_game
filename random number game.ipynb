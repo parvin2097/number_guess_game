{
 "cells": [
  {
   "cell_type": "code",
   "execution_count": 1,
   "id": "1c33dfa2",
   "metadata": {},
   "outputs": [
    {
     "name": "stdout",
     "output_type": "stream",
     "text": [
      "guess a number:300\n",
      "try a bigger no\n",
      "\n",
      "guess a number:700\n",
      "enter a number between 0 and  500\n",
      "\n",
      "guess a number:400\n",
      "try a bigger no\n",
      "\n",
      "guess a number:450\n",
      "try a smaller no\n",
      "\n",
      "guess a number:430\n",
      "try a smaller no\n",
      "\n",
      "guess a number:410\n",
      "try a bigger no\n",
      "\n",
      "guess a number:420\n",
      "try a smaller no\n",
      "\n",
      "guess a number:415\n",
      "try a smaller no\n",
      "\n",
      "guess a number:412\n",
      "try a smaller no\n",
      "\n",
      "guess a number:411\n",
      "your guess is correct!\n",
      "do you want to play again? Y or N:n\n"
     ]
    }
   ],
   "source": [
    "#RANDOM NUMBER GAME\n",
    "from random import randint\n",
    "max_=500\n",
    "def random_game():   \n",
    "    while True:\n",
    "        try:\n",
    "            user_input=int(input(\"guess a number:\"))\n",
    "            break\n",
    "        except:\n",
    "            print(\"enter a valid number!\")\n",
    "    return user_input\n",
    "random_no=randint(0,max_)\n",
    "while True:\n",
    "    guess=random_game()\n",
    "    if guess>=0 and guess<=max_:\n",
    "        if guess==random_no:\n",
    "            print(\"your guess is correct!\")    \n",
    "            #break\n",
    "            again=input(\"do you want to play again? Y or N:\")\n",
    "            if again==\"y\":\n",
    "                random_no=randint(0,max_)\n",
    "                guess==random_game()\n",
    "            else:\n",
    "                break\n",
    "        elif guess<random_no:\n",
    "            print(\"try a bigger no\")\n",
    "        \n",
    "        else:\n",
    "            print(\"try a smaller no\")\n",
    "            \n",
    "    else:\n",
    "        print(\"enter a number between 0 and \",max_)\n",
    "    print(\"\")"
   ]
  }
 ],
 "metadata": {
  "kernelspec": {
   "display_name": "Python 3",
   "language": "python",
   "name": "python3"
  },
  "language_info": {
   "codemirror_mode": {
    "name": "ipython",
    "version": 3
   },
   "file_extension": ".py",
   "mimetype": "text/x-python",
   "name": "python",
   "nbconvert_exporter": "python",
   "pygments_lexer": "ipython3",
   "version": "3.9.4"
  }
 },
 "nbformat": 4,
 "nbformat_minor": 5
}
